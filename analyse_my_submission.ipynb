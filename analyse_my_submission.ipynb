{
 "cells": [
  {
   "cell_type": "code",
   "execution_count": 1,
   "metadata": {
    "collapsed": true
   },
   "outputs": [],
   "source": [
    "import pandas\n",
    "import numpy as np"
   ]
  },
  {
   "cell_type": "markdown",
   "metadata": {},
   "source": [
    "# Let's have a look at what my predictions actually look like"
   ]
  },
  {
   "cell_type": "code",
   "execution_count": 2,
   "metadata": {
    "collapsed": true
   },
   "outputs": [],
   "source": [
    "# load the prediction file\n",
    "df = pandas.read_csv('./my_submission_gpu.csv')"
   ]
  },
  {
   "cell_type": "code",
   "execution_count": 3,
   "metadata": {
    "collapsed": false
   },
   "outputs": [
    {
     "data": {
      "text/html": [
       "<div>\n",
       "<style scoped>\n",
       "    .dataframe tbody tr th:only-of-type {\n",
       "        vertical-align: middle;\n",
       "    }\n",
       "\n",
       "    .dataframe tbody tr th {\n",
       "        vertical-align: top;\n",
       "    }\n",
       "\n",
       "    .dataframe thead th {\n",
       "        text-align: right;\n",
       "    }\n",
       "</style>\n",
       "<table border=\"1\" class=\"dataframe\">\n",
       "  <thead>\n",
       "    <tr style=\"text-align: right;\">\n",
       "      <th></th>\n",
       "      <th>Image</th>\n",
       "      <th>Id</th>\n",
       "    </tr>\n",
       "  </thead>\n",
       "  <tbody>\n",
       "    <tr>\n",
       "      <th>0</th>\n",
       "      <td>a779821d.jpg</td>\n",
       "      <td>new_whale w_2725793 w_303518a w_f3d98bc w_c663...</td>\n",
       "    </tr>\n",
       "    <tr>\n",
       "      <th>1</th>\n",
       "      <td>c064ec31.jpg</td>\n",
       "      <td>new_whale w_b6ed5d2 w_1a70685 w_3411b9f w_f864...</td>\n",
       "    </tr>\n",
       "    <tr>\n",
       "      <th>2</th>\n",
       "      <td>6a5e374d.jpg</td>\n",
       "      <td>w_1eafe46 new_whale w_95b6cc3 w_045d9fc w_e24a...</td>\n",
       "    </tr>\n",
       "    <tr>\n",
       "      <th>3</th>\n",
       "      <td>5df80c24.jpg</td>\n",
       "      <td>new_whale w_86b3f04 w_3a9ee71 w_83714b7 w_74ad...</td>\n",
       "    </tr>\n",
       "    <tr>\n",
       "      <th>4</th>\n",
       "      <td>68596681.jpg</td>\n",
       "      <td>new_whale w_8044362 w_b96d4e0 w_93bf889 w_97f5...</td>\n",
       "    </tr>\n",
       "    <tr>\n",
       "      <th>5</th>\n",
       "      <td>1ea8b7db.jpg</td>\n",
       "      <td>new_whale w_c27d036 w_12f2352 w_67de30b w_d89b...</td>\n",
       "    </tr>\n",
       "    <tr>\n",
       "      <th>6</th>\n",
       "      <td>554833b7.jpg</td>\n",
       "      <td>new_whale w_cf0c062 w_ccbc782 w_136337c w_676d...</td>\n",
       "    </tr>\n",
       "    <tr>\n",
       "      <th>7</th>\n",
       "      <td>1c05fdeb.jpg</td>\n",
       "      <td>new_whale w_2b939eb w_b6886e5 w_7427ace w_8d83...</td>\n",
       "    </tr>\n",
       "    <tr>\n",
       "      <th>8</th>\n",
       "      <td>ed7ddb31.jpg</td>\n",
       "      <td>new_whale w_434ad6a w_53064a6 w_1029f4e w_e02f...</td>\n",
       "    </tr>\n",
       "    <tr>\n",
       "      <th>9</th>\n",
       "      <td>b93181d3.jpg</td>\n",
       "      <td>new_whale w_2f283f3 w_6af9dd7 w_309a2b3 w_d663...</td>\n",
       "    </tr>\n",
       "  </tbody>\n",
       "</table>\n",
       "</div>"
      ],
      "text/plain": [
       "          Image                                                 Id\n",
       "0  a779821d.jpg  new_whale w_2725793 w_303518a w_f3d98bc w_c663...\n",
       "1  c064ec31.jpg  new_whale w_b6ed5d2 w_1a70685 w_3411b9f w_f864...\n",
       "2  6a5e374d.jpg  w_1eafe46 new_whale w_95b6cc3 w_045d9fc w_e24a...\n",
       "3  5df80c24.jpg  new_whale w_86b3f04 w_3a9ee71 w_83714b7 w_74ad...\n",
       "4  68596681.jpg  new_whale w_8044362 w_b96d4e0 w_93bf889 w_97f5...\n",
       "5  1ea8b7db.jpg  new_whale w_c27d036 w_12f2352 w_67de30b w_d89b...\n",
       "6  554833b7.jpg  new_whale w_cf0c062 w_ccbc782 w_136337c w_676d...\n",
       "7  1c05fdeb.jpg  new_whale w_2b939eb w_b6886e5 w_7427ace w_8d83...\n",
       "8  ed7ddb31.jpg  new_whale w_434ad6a w_53064a6 w_1029f4e w_e02f...\n",
       "9  b93181d3.jpg  new_whale w_2f283f3 w_6af9dd7 w_309a2b3 w_d663..."
      ]
     },
     "execution_count": 3,
     "metadata": {},
     "output_type": "execute_result"
    }
   ],
   "source": [
    "# show the first 10 rows\n",
    "df[:10]"
   ]
  },
  {
   "cell_type": "markdown",
   "metadata": {},
   "source": [
    "## How many times does new_whale appear?"
   ]
  },
  {
   "cell_type": "code",
   "execution_count": 4,
   "metadata": {
    "collapsed": false
   },
   "outputs": [],
   "source": [
    "# split the Id column into five separate columns for each guess.\n",
    "# I also remove a trailing space here\n",
    "data = np.array(df.Id.apply(lambda x: x.split(' ')).tolist())[:,:5]\n",
    "df_new = pandas.DataFrame(data,columns=['First','Second','Third', 'Fourth', 'Fifth'])"
   ]
  },
  {
   "cell_type": "code",
   "execution_count": 5,
   "metadata": {
    "collapsed": false
   },
   "outputs": [
    {
     "name": "stdout",
     "output_type": "stream",
     "text": [
      "0.8966 of the First predictions are new_whale\n",
      "0.0888 of the Second predictions are new_whale\n",
      "0.0107 of the Third predictions are new_whale\n",
      "0.0024 of the Fourth predictions are new_whale\n",
      "0.0011 of the Fifth predictions are new_whale\n"
     ]
    }
   ],
   "source": [
    "n = []\n",
    "for i in range(5):\n",
    "    n.append(float((df_new.iloc[:,i]=='new_whale').sum())/float(len(df_new)))\n",
    "    print '{:.4f} of the '.format(n[i]) + df_new.columns[i] + ' predictions are new_whale'\n"
   ]
  },
  {
   "cell_type": "markdown",
   "metadata": {},
   "source": [
    "This means that my model tends to pick new_whale as the top prediction. The reason is probably that new_whale is by far the most common class. However, there are 810 new_whale images in the training set and a total of about 10000 training images, so only every 12th whale is a new_whale. My model overestimates this. "
   ]
  },
  {
   "cell_type": "code",
   "execution_count": 19,
   "metadata": {
    "collapsed": false
   },
   "outputs": [
    {
     "data": {
      "text/plain": [
       "0    w_2725793 w_303518a w_f3d98bc w_c663985 new_whale\n",
       "1    w_b6ed5d2 w_1a70685 w_3411b9f w_f86488a new_whale\n",
       "2    new_whale w_95b6cc3 w_045d9fc w_e24a84d w_1eafe46\n",
       "3    w_86b3f04 w_3a9ee71 w_83714b7 w_74adf0b new_whale\n",
       "4    w_8044362 w_b96d4e0 w_93bf889 w_97f5054 new_whale\n",
       "5    w_c27d036 w_12f2352 w_67de30b w_d89b29e new_whale\n",
       "6    w_cf0c062 w_ccbc782 w_136337c w_676ddb0 new_whale\n",
       "7    w_2b939eb w_b6886e5 w_7427ace w_8d83172 new_whale\n",
       "8    w_434ad6a w_53064a6 w_1029f4e w_e02fe7b new_whale\n",
       "9    w_2f283f3 w_6af9dd7 w_309a2b3 w_d663f4f new_whale\n",
       "dtype: object"
      ]
     },
     "execution_count": 19,
     "metadata": {},
     "output_type": "execute_result"
    }
   ],
   "source": [
    "# reorder the columns so that the first column become the last column\n",
    "df_reordered = df_new[['Second','Third','Fourth','Fifth','First']]\n",
    "df_reordered = df_reordered.apply(lambda x: ' '.join(x),axis=1)\n",
    "# df_reordered.columns=['Id']\n",
    "df_reordered[:10]"
   ]
  },
  {
   "cell_type": "code",
   "execution_count": 20,
   "metadata": {
    "collapsed": false
   },
   "outputs": [],
   "source": [
    "# combine this with the image names\n",
    "df_reordered = pandas.concat([df.Image,df_reordered],axis=1)\n",
    "df_reordered.columns = ['Image', 'Id']"
   ]
  },
  {
   "cell_type": "code",
   "execution_count": 24,
   "metadata": {
    "collapsed": false
   },
   "outputs": [
    {
     "data": {
      "text/html": [
       "<div>\n",
       "<style scoped>\n",
       "    .dataframe tbody tr th:only-of-type {\n",
       "        vertical-align: middle;\n",
       "    }\n",
       "\n",
       "    .dataframe tbody tr th {\n",
       "        vertical-align: top;\n",
       "    }\n",
       "\n",
       "    .dataframe thead th {\n",
       "        text-align: right;\n",
       "    }\n",
       "</style>\n",
       "<table border=\"1\" class=\"dataframe\">\n",
       "  <thead>\n",
       "    <tr style=\"text-align: right;\">\n",
       "      <th></th>\n",
       "      <th>Image</th>\n",
       "      <th>Id</th>\n",
       "    </tr>\n",
       "  </thead>\n",
       "  <tbody>\n",
       "    <tr>\n",
       "      <th>0</th>\n",
       "      <td>a779821d.jpg</td>\n",
       "      <td>w_2725793 w_303518a w_f3d98bc w_c663985 new_whale</td>\n",
       "    </tr>\n",
       "    <tr>\n",
       "      <th>1</th>\n",
       "      <td>c064ec31.jpg</td>\n",
       "      <td>w_b6ed5d2 w_1a70685 w_3411b9f w_f86488a new_whale</td>\n",
       "    </tr>\n",
       "    <tr>\n",
       "      <th>2</th>\n",
       "      <td>6a5e374d.jpg</td>\n",
       "      <td>new_whale w_95b6cc3 w_045d9fc w_e24a84d w_1eafe46</td>\n",
       "    </tr>\n",
       "    <tr>\n",
       "      <th>3</th>\n",
       "      <td>5df80c24.jpg</td>\n",
       "      <td>w_86b3f04 w_3a9ee71 w_83714b7 w_74adf0b new_whale</td>\n",
       "    </tr>\n",
       "    <tr>\n",
       "      <th>4</th>\n",
       "      <td>68596681.jpg</td>\n",
       "      <td>w_8044362 w_b96d4e0 w_93bf889 w_97f5054 new_whale</td>\n",
       "    </tr>\n",
       "    <tr>\n",
       "      <th>5</th>\n",
       "      <td>1ea8b7db.jpg</td>\n",
       "      <td>w_c27d036 w_12f2352 w_67de30b w_d89b29e new_whale</td>\n",
       "    </tr>\n",
       "    <tr>\n",
       "      <th>6</th>\n",
       "      <td>554833b7.jpg</td>\n",
       "      <td>w_cf0c062 w_ccbc782 w_136337c w_676ddb0 new_whale</td>\n",
       "    </tr>\n",
       "    <tr>\n",
       "      <th>7</th>\n",
       "      <td>1c05fdeb.jpg</td>\n",
       "      <td>w_2b939eb w_b6886e5 w_7427ace w_8d83172 new_whale</td>\n",
       "    </tr>\n",
       "    <tr>\n",
       "      <th>8</th>\n",
       "      <td>ed7ddb31.jpg</td>\n",
       "      <td>w_434ad6a w_53064a6 w_1029f4e w_e02fe7b new_whale</td>\n",
       "    </tr>\n",
       "    <tr>\n",
       "      <th>9</th>\n",
       "      <td>b93181d3.jpg</td>\n",
       "      <td>w_2f283f3 w_6af9dd7 w_309a2b3 w_d663f4f new_whale</td>\n",
       "    </tr>\n",
       "  </tbody>\n",
       "</table>\n",
       "</div>"
      ],
      "text/plain": [
       "          Image                                                 Id\n",
       "0  a779821d.jpg  w_2725793 w_303518a w_f3d98bc w_c663985 new_whale\n",
       "1  c064ec31.jpg  w_b6ed5d2 w_1a70685 w_3411b9f w_f86488a new_whale\n",
       "2  6a5e374d.jpg  new_whale w_95b6cc3 w_045d9fc w_e24a84d w_1eafe46\n",
       "3  5df80c24.jpg  w_86b3f04 w_3a9ee71 w_83714b7 w_74adf0b new_whale\n",
       "4  68596681.jpg  w_8044362 w_b96d4e0 w_93bf889 w_97f5054 new_whale\n",
       "5  1ea8b7db.jpg  w_c27d036 w_12f2352 w_67de30b w_d89b29e new_whale\n",
       "6  554833b7.jpg  w_cf0c062 w_ccbc782 w_136337c w_676ddb0 new_whale\n",
       "7  1c05fdeb.jpg  w_2b939eb w_b6886e5 w_7427ace w_8d83172 new_whale\n",
       "8  ed7ddb31.jpg  w_434ad6a w_53064a6 w_1029f4e w_e02fe7b new_whale\n",
       "9  b93181d3.jpg  w_2f283f3 w_6af9dd7 w_309a2b3 w_d663f4f new_whale"
      ]
     },
     "execution_count": 24,
     "metadata": {},
     "output_type": "execute_result"
    }
   ],
   "source": [
    "df_reordered[:10]"
   ]
  },
  {
   "cell_type": "code",
   "execution_count": 22,
   "metadata": {
    "collapsed": false
   },
   "outputs": [],
   "source": [
    "df_reordered.to_csv('./my_submission_reordered.csv',index=False)"
   ]
  },
  {
   "cell_type": "code",
   "execution_count": null,
   "metadata": {
    "collapsed": true
   },
   "outputs": [],
   "source": []
  }
 ],
 "metadata": {
  "kernelspec": {
   "display_name": "Python 2",
   "language": "python",
   "name": "python2"
  },
  "language_info": {
   "codemirror_mode": {
    "name": "ipython",
    "version": 2
   },
   "file_extension": ".py",
   "mimetype": "text/x-python",
   "name": "python",
   "nbconvert_exporter": "python",
   "pygments_lexer": "ipython2",
   "version": "2.7.12"
  }
 },
 "nbformat": 4,
 "nbformat_minor": 0
}
