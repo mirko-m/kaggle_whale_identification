{
 "cells": [
  {
   "cell_type": "code",
   "execution_count": 1,
   "metadata": {
    "collapsed": true
   },
   "outputs": [],
   "source": [
    "% matplotlib notebook\n",
    "import matplotlib.pyplot as plt\n",
    "import numpy as np\n",
    "import pandas\n",
    "import PIL\n",
    "import imagehash\n",
    "import time\n",
    "import os"
   ]
  },
  {
   "cell_type": "code",
   "execution_count": 2,
   "metadata": {
    "collapsed": true
   },
   "outputs": [],
   "source": [
    "filenames = os.listdir('./data/test/')"
   ]
  },
  {
   "cell_type": "code",
   "execution_count": 3,
   "metadata": {
    "collapsed": true
   },
   "outputs": [],
   "source": [
    "df_test = pandas.DataFrame({'Image': filenames})"
   ]
  },
  {
   "cell_type": "code",
   "execution_count": 5,
   "metadata": {
    "collapsed": false
   },
   "outputs": [],
   "source": [
    "df_test['Hash_val'] = df_test.Image.apply(lambda x: imagehash.phash(PIL.Image.open('./data/test/'+x)))"
   ]
  },
  {
   "cell_type": "code",
   "execution_count": 10,
   "metadata": {
    "collapsed": false
   },
   "outputs": [],
   "source": [
    "df_train = pandas.read_csv('./data/train.csv')"
   ]
  },
  {
   "cell_type": "code",
   "execution_count": 12,
   "metadata": {
    "collapsed": false
   },
   "outputs": [],
   "source": [
    "df_train['Hash_val'] = df_train.Image.apply(lambda x: imagehash.phash(PIL.Image.open('./data/train/'+x)))"
   ]
  },
  {
   "cell_type": "code",
   "execution_count": 88,
   "metadata": {
    "collapsed": false
   },
   "outputs": [],
   "source": [
    "# A set with the unique Hash values contained in the training set\n",
    "hash_val_set = set(df_train.Hash_val.unique().tolist())"
   ]
  },
  {
   "cell_type": "code",
   "execution_count": 82,
   "metadata": {
    "collapsed": false
   },
   "outputs": [
    {
     "data": {
      "text/plain": [
       "list"
      ]
     },
     "execution_count": 82,
     "metadata": {},
     "output_type": "execute_result"
    }
   ],
   "source": [
    "# For testing purposes. Delete this cell later.\n",
    "x = small_test.Hash_val[0]\n",
    "x = df_train.Hash_val[1]\n",
    "type(df_train.Id[df_train.Hash_val == x].values.tolist() if x in hash_val_set else ['new_whale'])"
   ]
  },
  {
   "cell_type": "code",
   "execution_count": 89,
   "metadata": {
    "collapsed": false
   },
   "outputs": [],
   "source": [
    "# If an image is present in the training set predict the label from the training set. Otherwise predict 'new_whale'.\n",
    "df_test['Id'] = df_test.Hash_val.apply(lambda x: df_train.Id[df_train.Hash_val==x].values.tolist() if x in hash_val_set else ['new_whale'])"
   ]
  },
  {
   "cell_type": "code",
   "execution_count": 139,
   "metadata": {
    "collapsed": false
   },
   "outputs": [],
   "source": [
    "# make a copy of the dataframe\n",
    "prediction = df_test.copy()"
   ]
  },
  {
   "cell_type": "code",
   "execution_count": 134,
   "metadata": {
    "collapsed": false
   },
   "outputs": [
    {
     "data": {
      "text/html": [
       "<div>\n",
       "<style scoped>\n",
       "    .dataframe tbody tr th:only-of-type {\n",
       "        vertical-align: middle;\n",
       "    }\n",
       "\n",
       "    .dataframe tbody tr th {\n",
       "        vertical-align: top;\n",
       "    }\n",
       "\n",
       "    .dataframe thead th {\n",
       "        text-align: right;\n",
       "    }\n",
       "</style>\n",
       "<table border=\"1\" class=\"dataframe\">\n",
       "  <thead>\n",
       "    <tr style=\"text-align: right;\">\n",
       "      <th></th>\n",
       "      <th>Image</th>\n",
       "      <th>Hash_val</th>\n",
       "      <th>Id</th>\n",
       "    </tr>\n",
       "  </thead>\n",
       "  <tbody>\n",
       "    <tr>\n",
       "      <th>2260</th>\n",
       "      <td>96a9a969.jpg</td>\n",
       "      <td>a458cc3fe3b0f170</td>\n",
       "      <td>[w_e5250e9, w_e5250e9]</td>\n",
       "    </tr>\n",
       "    <tr>\n",
       "      <th>2966</th>\n",
       "      <td>7a126d57.jpg</td>\n",
       "      <td>fb8ac8a3a3b2a4e1</td>\n",
       "      <td>[w_e3f51ec, w_e3f51ec]</td>\n",
       "    </tr>\n",
       "    <tr>\n",
       "      <th>6424</th>\n",
       "      <td>eff1747c.jpg</td>\n",
       "      <td>db086cb73860c75b</td>\n",
       "      <td>[w_92d390e, w_92d390e]</td>\n",
       "    </tr>\n",
       "    <tr>\n",
       "      <th>15430</th>\n",
       "      <td>a98bfd97.jpg</td>\n",
       "      <td>a15a96c5c9e6643b</td>\n",
       "      <td>[w_7028d77, w_f6bca7a]</td>\n",
       "    </tr>\n",
       "  </tbody>\n",
       "</table>\n",
       "</div>"
      ],
      "text/plain": [
       "              Image          Hash_val                      Id\n",
       "2260   96a9a969.jpg  a458cc3fe3b0f170  [w_e5250e9, w_e5250e9]\n",
       "2966   7a126d57.jpg  fb8ac8a3a3b2a4e1  [w_e3f51ec, w_e3f51ec]\n",
       "6424   eff1747c.jpg  db086cb73860c75b  [w_92d390e, w_92d390e]\n",
       "15430  a98bfd97.jpg  a15a96c5c9e6643b  [w_7028d77, w_f6bca7a]"
      ]
     },
     "execution_count": 134,
     "metadata": {},
     "output_type": "execute_result"
    }
   ],
   "source": [
    "# Show all the images with two labels\n",
    "prediction[prediction.Id.apply(len) == 2]"
   ]
  },
  {
   "cell_type": "code",
   "execution_count": 140,
   "metadata": {
    "collapsed": false
   },
   "outputs": [],
   "source": [
    "# Reformat the Id for submission to Kaggle and save the dataframe to a file\n",
    "prediction.Id = prediction.Id.apply(lambda x: ' '.join(x))\n",
    "prediction.to_csv('./my_submission_phash_only.csv',columns=['Image','Id'],index=False)"
   ]
  },
  {
   "cell_type": "code",
   "execution_count": 168,
   "metadata": {
    "collapsed": false
   },
   "outputs": [],
   "source": [
    "# Save a csv-file containing the imagenames of all the whales which do not appear \n",
    "# in the training set and another csv file with all the imagenames for whales that \n",
    "# appear in the training set.\n",
    "df_test_no_leakage = df_test[df_test.Id.apply(lambda x: 'new_whale' in x)]\n",
    "df_test_no_leakage.to_csv('./data/test_no_leakage.csv')\n",
    "df_test_leakage = df_test[df_test.Id.apply(lambda x: 'new_whale' not in x)]\n",
    "df_test_leakage.to_csv('./data/test_leakage.csv')"
   ]
  },
  {
   "cell_type": "code",
   "execution_count": 166,
   "metadata": {
    "collapsed": false
   },
   "outputs": [
    {
     "name": "stdout",
     "output_type": "stream",
     "text": [
      "Number of test images 15610\n",
      "Number of test images which are present in the training set 1891\n",
      "Number of test images which are not present in the training set 13719\n"
     ]
    }
   ],
   "source": [
    "print 'Number of test images {:d}'.format(len(df_test))\n",
    "print 'Number of test images which are present in the training set {:d}'.format(len(df_test_leakage))\n",
    "print 'Number of test images which are not present in the training set {:d}'.format(len(df_test_no_leakage))"
   ]
  },
  {
   "cell_type": "code",
   "execution_count": null,
   "metadata": {
    "collapsed": true
   },
   "outputs": [],
   "source": []
  }
 ],
 "metadata": {
  "kernelspec": {
   "display_name": "Python 2",
   "language": "python",
   "name": "python2"
  },
  "language_info": {
   "codemirror_mode": {
    "name": "ipython",
    "version": 2
   },
   "file_extension": ".py",
   "mimetype": "text/x-python",
   "name": "python",
   "nbconvert_exporter": "python",
   "pygments_lexer": "ipython2",
   "version": "2.7.12"
  }
 },
 "nbformat": 4,
 "nbformat_minor": 0
}
